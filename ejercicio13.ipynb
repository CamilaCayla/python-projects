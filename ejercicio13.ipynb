{
  "cells": [
    {
      "cell_type": "markdown",
      "metadata": {
        "id": "SLY0PDmP3mKf"
      },
      "source": [
        "## Ejercicio\n",
        "\n",
        "Escribir un programa que pregunte por una muestra de números, separados por comas, los guarde en una tupla y muestre por pantalla su media y desviación típica."
      ]
    },
    {
      "cell_type": "markdown",
      "metadata": {
        "id": "v3IuljFH3mKh"
      },
      "source": [
        "## Solución"
      ]
    },
    {
      "cell_type": "code",
      "execution_count": null,
      "metadata": {
        "id": "qHS3r-Q23mKh"
      },
      "outputs": [],
      "source": [
        "import math\n",
        "muestra = input(\"Introduce una muestra de números separados por comas: \")\n",
        "muestra= muestra.split(',')\n",
        "muestra=[float(num) for num in muestra]\n",
        "media= sum(muestra) / len(muestra)\n",
        "desviacion = math.sqrt(sum((x - media)**2 for x in muestra) / len(muestra))\n",
        "print(f\"Resultados de la media: {media} y la desviacion tipica {desviacion}\")\n"
      ]
    }
  ],
  "metadata": {
    "colab": {
      "provenance": []
    },
    "kernelspec": {
      "display_name": "Python 3",
      "language": "python",
      "name": "python3"
    },
    "language_info": {
      "codemirror_mode": {
        "name": "ipython",
        "version": 3
      },
      "file_extension": ".py",
      "mimetype": "text/x-python",
      "name": "python",
      "nbconvert_exporter": "python",
      "pygments_lexer": "ipython3",
      "version": "3.6.8"
    }
  },
  "nbformat": 4,
  "nbformat_minor": 0
}
