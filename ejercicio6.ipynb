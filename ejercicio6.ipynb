{
  "cells": [
    {
      "cell_type": "markdown",
      "metadata": {
        "id": "cEzbMR582OaU"
      },
      "source": [
        "## Ejercicio\n",
        "\n",
        "Escribir un programa que almacene las asignaturas de un curso (por ejemplo Matemáticas, Física, Química, Historia y Lengua) en una lista, pregunte al usuario la nota que ha sacado en cada asignatura y elimine de la lista las asignaturas aprobadas. Al final el programa debe mostrar por pantalla las asignaturas que el usuario tiene que repetir."
      ]
    },
    {
      "cell_type": "markdown",
      "metadata": {
        "id": "7bz_qk_Y2OaW"
      },
      "source": [
        "## Solución 1"
      ]
    },
    {
      "cell_type": "code",
      "execution_count": null,
      "metadata": {
        "id": "2en5hKcz2OaW"
      },
      "outputs": [],
      "source": [
        "asignaturas = [\"Matemáticas\", \"Física\", \"Química\", \"Historia\", \"Lengua\"]\n",
        "repetir=[]\n",
        "for asignatura in asignaturas:\n",
        "    nota= float(input(f\"Qué nota te sacaste en:, {asignatura}\"))\n",
        "    if nota < 6:\n",
        "        repetir.append(asignatura)\n",
        "\n",
        "if repetir:\n",
        "    print(\"Tenés que repetir:\", repetir)\n"
      ]
    },
    {
      "cell_type": "markdown",
      "metadata": {
        "id": "wQmuaOq52OaX"
      },
      "source": [
        "## Solución 2"
      ]
    },
    {
      "cell_type": "code",
      "execution_count": null,
      "metadata": {
        "id": "SEi3_nLL2OaY"
      },
      "outputs": [],
      "source": []
    }
  ],
  "metadata": {
    "colab": {
      "provenance": []
    },
    "kernelspec": {
      "display_name": "Python 3",
      "language": "python",
      "name": "python3"
    },
    "language_info": {
      "codemirror_mode": {
        "name": "ipython",
        "version": 3
      },
      "file_extension": ".py",
      "mimetype": "text/x-python",
      "name": "python",
      "nbconvert_exporter": "python",
      "pygments_lexer": "ipython3",
      "version": "3.13.6"
    }
  },
  "nbformat": 4,
  "nbformat_minor": 0
}
