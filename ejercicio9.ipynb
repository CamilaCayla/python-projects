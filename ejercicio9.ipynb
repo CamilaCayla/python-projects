{
  "cells": [
    {
      "cell_type": "markdown",
      "metadata": {
        "id": "_GCLGfIC20nS"
      },
      "source": [
        "## Ejercicio\n",
        "\n",
        "Escribir un programa que pida al usuario una palabra y muestre por pantalla el número de veces que contiene cada vocal."
      ]
    },
    {
      "cell_type": "markdown",
      "metadata": {
        "id": "4ciBAkRN20nT"
      },
      "source": [
        "## Solución"
      ]
    },
    {
      "cell_type": "code",
      "execution_count": 1,
      "metadata": {
        "id": "oMSeUR_r20nU"
      },
      "outputs": [
        {
          "ename": "TypeError",
          "evalue": "count() argument 1 must be str, not list",
          "output_type": "error",
          "traceback": [
            "\u001b[31m---------------------------------------------------------------------------\u001b[39m",
            "\u001b[31mTypeError\u001b[39m                                 Traceback (most recent call last)",
            "\u001b[36mCell\u001b[39m\u001b[36m \u001b[39m\u001b[32mIn[1]\u001b[39m\u001b[32m, line 3\u001b[39m\n\u001b[32m      1\u001b[39m palabra= \u001b[38;5;28minput\u001b[39m(\u001b[33m\"\u001b[39m\u001b[33mIntroduce una palabra: \u001b[39m\u001b[33m\"\u001b[39m)\n\u001b[32m      2\u001b[39m vocales = [\u001b[33m'\u001b[39m\u001b[33ma\u001b[39m\u001b[33m'\u001b[39m, \u001b[33m'\u001b[39m\u001b[33me\u001b[39m\u001b[33m'\u001b[39m, \u001b[33m'\u001b[39m\u001b[33mi\u001b[39m\u001b[33m'\u001b[39m, \u001b[33m'\u001b[39m\u001b[33mo\u001b[39m\u001b[33m'\u001b[39m, \u001b[33m'\u001b[39m\u001b[33mu\u001b[39m\u001b[33m'\u001b[39m]\n\u001b[32m----> \u001b[39m\u001b[32m3\u001b[39m \u001b[43mpalabra\u001b[49m\u001b[43m.\u001b[49m\u001b[43mcount\u001b[49m\u001b[43m(\u001b[49m\u001b[43mvocales\u001b[49m\u001b[43m)\u001b[49m\n",
            "\u001b[31mTypeError\u001b[39m: count() argument 1 must be str, not list"
          ]
        }
      ],
      "source": [
        "palabra= input(\"Introduce una palabra: \")\n",
        "vocales = ['a', 'e', 'i', 'o', 'u']\n",
        "for vocal in vocales:\n",
        "    print(f\"la vocal: {vocal} aparece {palabra.count(vocal)} veces\")\n",
        "\n",
        "\n"
      ]
    }
  ],
  "metadata": {
    "colab": {
      "provenance": []
    },
    "kernelspec": {
      "display_name": "Python 3",
      "language": "python",
      "name": "python3"
    },
    "language_info": {
      "codemirror_mode": {
        "name": "ipython",
        "version": 3
      },
      "file_extension": ".py",
      "mimetype": "text/x-python",
      "name": "python",
      "nbconvert_exporter": "python",
      "pygments_lexer": "ipython3",
      "version": "3.13.6"
    }
  },
  "nbformat": 4,
  "nbformat_minor": 0
}
